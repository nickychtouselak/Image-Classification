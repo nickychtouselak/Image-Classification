{
  "nbformat": 4,
  "nbformat_minor": 0,
  "metadata": {
    "colab": {
      "name": "ModelandSimulation1.ipynb",
      "provenance": [],
      "authorship_tag": "ABX9TyO9Cd82goGdNADW3mmWAmgo",
      "include_colab_link": true
    },
    "kernelspec": {
      "name": "python3",
      "display_name": "Python 3"
    }
  },
  "cells": [
    {
      "cell_type": "markdown",
      "metadata": {
        "id": "view-in-github",
        "colab_type": "text"
      },
      "source": [
        "<a href=\"https://colab.research.google.com/github/nickychtouselak/Image-Classification/blob/main/ModelandSimulation1.ipynb\" target=\"_parent\"><img src=\"https://colab.research.google.com/assets/colab-badge.svg\" alt=\"Open In Colab\"/></a>"
      ]
    },
    {
      "cell_type": "markdown",
      "metadata": {
        "id": "8xAHjCDIPiG9"
      },
      "source": [
        "# Tugas 12 Pemrograman Python\r\n",
        "*Nicky Christian Touselak_1101190295_TT-43-G11* \r\n",
        "\r\n"
      ]
    },
    {
      "cell_type": "code",
      "metadata": {
        "id": "5xB-iUCgQSHK",
        "colab": {
          "base_uri": "https://localhost:8080/"
        },
        "outputId": "8961906d-645e-4dad-a5df-b39c37800c80"
      },
      "source": [
        "#Memasukkan variabel yang diperlukan\r\n",
        "print(\"Masukkan nilai variabel :\")\r\n",
        "fc = int(input(\"\\n𝑓𝐶 (range : 150 𝑀𝐻𝑧 - 2000 𝑀𝐻𝑧)  : \"))\r\n",
        "hT = int(input(\"ℎ𝑇 (range : 30 m - 200 m)          : \"))\r\n",
        "hR = int(input(\"ℎ𝑅 (range : 1 m - 30 m)            : \"))\r\n",
        "d  = int(input(\"𝑑  (dalam Km)                      : \"))\r\n",
        "Cm = int(input(\"𝐶𝑚 (1=Urban ; 2=Suburban ; 3=Open): \"))"
      ],
      "execution_count": 6,
      "outputs": [
        {
          "output_type": "stream",
          "text": [
            "Masukkan nilai variabel :\n",
            "\n",
            "𝑓𝐶 (range : 150 𝑀𝐻𝑧 - 2000 𝑀𝐻𝑧)  : 300\n",
            "ℎ𝑇 (range : 30 m - 200 m)          : 100\n",
            "ℎ𝑅 (range : 1 m - 30 m)            : 25\n",
            "𝑑  (dalam Km)                      : 10\n",
            "𝐶𝑚 (1=Urban ; 2=Suburban ; 3=Open): 1\n"
          ],
          "name": "stdout"
        }
      ]
    },
    {
      "cell_type": "code",
      "metadata": {
        "id": "hIgU567hV0JC",
        "colab": {
          "base_uri": "https://localhost:8080/"
        },
        "outputId": "287164a5-f256-4bb2-df94-258bb7e1315f"
      },
      "source": [
        "import numpy as np\r\n",
        "\r\n",
        "def Lp(fc, hT, hR, d, Cm):\r\n",
        "  #Menentukan ahR\r\n",
        "  ahR = (1.1*np.log10(fc)-0.7)*hR-((1.56*np.log10(fc))-0.8)\r\n",
        "\r\n",
        "  #Menentukan C1 dan C2\r\n",
        "  if (150<=fc<=1500):\r\n",
        "      c1=69.55\r\n",
        "      c2=26.16\r\n",
        "  if (1500<fc<=2000):\r\n",
        "      c1=46.3\r\n",
        "      c2=33.9\r\n",
        "\r\n",
        "  #Menentukan Cm\r\n",
        "  if (Cm==1):\r\n",
        "      cm=0\r\n",
        "  if (Cm==2):\r\n",
        "      cm=(-2*(np.log10(fc/28))**2)-5.4\r\n",
        "  if (Cm==3):\r\n",
        "      cm=(-4.78*(np.log10(fc))**2)+(18.33*(np.log10(fc)))-40.94\r\n",
        "\r\n",
        "  #Mencari Pathloss\r\n",
        "  Lpdb=c1+(c2*np.log10(fc))-(13.83*np.log10(hT))-ahR+((44.9-(6.55*np.log10(hT)))*np.log10(d))+cm\r\n",
        "  \r\n",
        "  #Menampilkan Hasil\r\n",
        "\r\n",
        "  print(\"Rumus-rumus :\")\r\n",
        "  print(\"\\n400 𝑀𝐻𝑧 ≤ 𝑓𝐶 ≤ 1500 𝑀𝐻𝑧 → 𝐶1=69.55 , 𝐶2=26.16 ;\\n1500 𝑀𝐻𝑧 < 𝑓𝐶 ≤ 2000 𝑀𝐻𝑧 → 𝐶1=46.3 , 𝐶2=33.9\")\r\n",
        "  print(\"\\n𝑎(ℎ𝑅) = {1,1 log(𝑓𝐶) − 0,7}ℎ𝑅 − {1,56 log(𝑓𝐶) − 0,8}\")\r\n",
        "  print(\"\\n𝐿𝑃 = 𝐶1 + 𝐶2 log 𝑓𝐶 − 13,83 log ℎ𝑇 − 𝑎(ℎ𝑅) + [44,9 − 6,55 log ℎ𝑇]log 𝑑 + 𝐶𝑚\")\r\n",
        "  print(\"\\n---------------------------------\")\r\n",
        "  print(\"\\nMenghitung 𝐿𝑃:\")\r\n",
        "  print(\"\\nNilai variabel yang telah dimasukkan :\")\r\n",
        "  print(\"𝑓𝐶   : \",fc,\" 𝑀𝐻𝑧\")\r\n",
        "  print(\"ℎ𝑇   : \",hT,\" m\")\r\n",
        "  print(\"ℎ𝑅   : \",hR,\" m\")\r\n",
        "  print(\"𝑑    : \",d,\" Km\")\r\n",
        "  print(\"\\n𝐶1   : \",c1)\r\n",
        "  print(\"𝐶2   : \",c2)\r\n",
        "  print(\"𝑎(ℎ𝑅): \",ahR)\r\n",
        "  print(\"𝐶𝑚  :\",cm)\r\n",
        "  print(\"\\nPathloss (𝐿𝑃) : \",Lpdb,\" dB\")\r\n",
        "\r\n",
        "#Memanggil fungsi  \r\n",
        "Lp(fc, hT, hR, d, Cm)\r\n"
      ],
      "execution_count": 22,
      "outputs": [
        {
          "output_type": "stream",
          "text": [
            "Rumus-rumus :\n",
            "\n",
            "400 𝑀𝐻𝑧 ≤ 𝑓𝐶 ≤ 1500 𝑀𝐻𝑧 → 𝐶1=69.55 , 𝐶2=26.16 ;\n",
            "1500 𝑀𝐻𝑧 < 𝑓𝐶 ≤ 2000 𝑀𝐻𝑧 → 𝐶1=46.3 , 𝐶2=33.9\n",
            "\n",
            "𝑎(ℎ𝑅) = {1,1 log(𝑓𝐶) − 0,7}ℎ𝑅 − {1,56 log(𝑓𝐶) − 0,8}\n",
            "\n",
            "𝐿𝑃 = 𝐶1 + 𝐶2 log 𝑓𝐶 − 13,83 log ℎ𝑇 − 𝑎(ℎ𝑅) + [44,9 − 6,55 log ℎ𝑇]log 𝑑 + 𝐶𝑚\n",
            "\n",
            "---------------------------------\n",
            "\n",
            "Menghitung 𝐿𝑃:\n",
            "\n",
            "Nilai variabel yang telah dimasukkan :\n",
            "𝑓𝐶   :  300  𝑀𝐻𝑧\n",
            "ℎ𝑇   :  100  m\n",
            "ℎ𝑅   :  25  m\n",
            "𝑑    :  10  Km\n",
            "\n",
            "𝐶1   :  69.55\n",
            "𝐶2   :  26.16\n",
            "𝑎(ℎ𝑅):  47.556525347428064\n",
            "𝐶𝑚  : 0\n",
            "\n",
            "Pathloss (𝐿𝑃) :  90.93496667603833  dB\n"
          ],
          "name": "stdout"
        }
      ]
    }
  ]
}